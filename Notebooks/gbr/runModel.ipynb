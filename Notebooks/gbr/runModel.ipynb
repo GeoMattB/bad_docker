{
 "cells": [
  {
   "cell_type": "markdown",
   "metadata": {},
   "source": [
    "# Holocene Great Barrier Reef evolution\n",
    "\n",
    "\n",
    "At basin-scale sediment transport and reef evolution are strongly controlled by large-scale forcings. Our model allows consideration of the following set of external forcing mechanisms: \n",
    "+ sea-level oscillations, \n",
    "+ rates of tectonic changes, \n",
    "+ rainfall regimes and \n",
    "+ boundary wave conditions. \n",
    "\n",
    "Spatial and temporal variations in precipitation can be applied as a set of maps representing an annual rainfall regime. The tectonic changes are provided as a series of temporal maps. Each map can have variable spatial cumulative displacements making it possible to simulate complex 3D tectonic evolution with both vertical (uplift and subsidence) and horizontal directions. The combination of these forcing mechanisms controls the evolution of the hydrodynamic conditions and the associated sediment transport regimes as well as marine carbonate production.\n",
    "\n",
    "***\n",
    "\n",
    "<img src=\"images/erodep.jpg\" alt=\"geometry\" width=\"1000\" height=\"500\"/>\n",
    "\n",
    "***\n",
    "\n",
    "This example is based on the following paper:\n",
    "\n",
    "**Salles T., X. Ding, J.M. Webster, A. Vila-Concejo, G. Brocard and J. Pall: A unified framework for modelling sediment fate from source to sink and its interactions with reef systems over geological times, Scientific Report, [doi:10.1038/s41598-018-23519-8](https://doi.org/10.1038/s41598-018-23519-8), 2018.**\n",
    "\n",
    "***\n",
    "\n",
    "Maps of cumulative erosion/deposition in metres at final time step combining fluvial, waves and coral reef processes for northern (left) and southern (right) GBR regions - for higher resolution simulation than the one propose in this example."
   ]
  },
  {
   "cell_type": "code",
   "execution_count": null,
   "metadata": {
    "scrolled": true
   },
   "outputs": [],
   "source": [
    "import glob\n",
    "import lavavu\n",
    "import numpy as np\n",
    "import cmocean as cmo\n",
    "from matplotlib import cm\n",
    "\n",
    "from scripts import viewBadlands as visu\n",
    "from scripts import sectionCarbonate as section\n",
    "from scripts import analyseWaveReef as wrAnalyse\n",
    "\n",
    "from badlands.model import Model as badlandsModel\n",
    "\n",
    "# display plots in SVG format\n",
    "%config InlineBackend.figure_format = 'svg'\n",
    "%matplotlib inline"
   ]
  },
  {
   "cell_type": "markdown",
   "metadata": {},
   "source": [
    "## Starting badlands\n",
    "\n",
    "First, we initialise the model and set the path to the **XmL** input file:\n",
    "\n",
    "+ **input.xml**\n",
    "\n",
    "> You can edit the **XmL** configuration file directly in the _Jupyter environment_ by clicking on it in the `tree` and changing in the **url** the **view** to **edit**."
   ]
  },
  {
   "cell_type": "code",
   "execution_count": null,
   "metadata": {},
   "outputs": [],
   "source": [
    "# Initialise model\n",
    "model = badlandsModel()\n",
    "\n",
    "# Define the XmL input file\n",
    "model.load_xml('input.xml')"
   ]
  },
  {
   "cell_type": "markdown",
   "metadata": {},
   "source": [
    "## Running badlands\n",
    "\n",
    "We can run the model for a given period. The end time in the **XmL** input file is set to _0_ (present day) but you might want to run the model for a coupled of iterations and check the output before running the model for the entire simulation time. \n",
    "\n",
    "This is done by putting the time in the `run_to_time` function. \n",
    "\n",
    "Here we go for the full time directly..."
   ]
  },
  {
   "cell_type": "code",
   "execution_count": null,
   "metadata": {
    "scrolled": false
   },
   "outputs": [],
   "source": [
    "model.run_to_time(0)"
   ]
  },
  {
   "cell_type": "markdown",
   "metadata": {},
   "source": [
    "## Visualise outputs"
   ]
  },
  {
   "cell_type": "code",
   "execution_count": null,
   "metadata": {},
   "outputs": [],
   "source": [
    "folder = 'output'\n",
    "stepCounter = len(glob.glob1(folder+\"/xmf/\",\"tin.time*\"))-1\n",
    "print(\"Number of visualisation steps created: \",stepCounter)\n",
    "visu.viewTime(folder, steps=stepCounter, it=1, scaleZ=10, maxZ=3000, maxED=20, maxwED=10)"
   ]
  },
  {
   "cell_type": "markdown",
   "metadata": {},
   "source": [
    "## Extracting model outputs\n",
    "\n",
    "***\n",
    "\n",
    "<img src=\"images/wavegbr.jpg\" alt=\"geometry\" width=\"800\" height=\"550\"/>\n",
    "\n",
    "*** \n",
    "\n",
    "<div class=\"alert alert-block alert-info\">We will extract different parameters from our simulation and do some basic post-processing analyses.</div>\n",
    "\n",
    "Some of the things that could be explore:\n",
    "\n",
    "+ how high sediment loads from catchments erosion influenced coral growth during the transgression phase,\n",
    "+ what is the relation between inland incision and sediment gravity-flows in the deepest parts of the basin floor; \n",
    "+ what are the relationships between climate, sea-level, and margin physiography and how it enabled coral reefs to thrive.\n",
    "\n",
    "We can plot a series of different parameters from the model for the chosen timestep:\n",
    "\n",
    "+ elevation: `dataTIN.z`\n",
    "+ slope: `dataTIN.slp`\n",
    "+ total erosion/deposition: `dataTIN.dz`\n",
    "+ wave-induced erosion/deposition: `dataTIN.wavesed`\n",
    "+ wave-induced shear stress: `dataTIN.wavestress`\n",
    "+ hillslope induced erosion/deposition : `dataTIN.cumhill`\n",
    "+ reef present/absent: `dataTIN.depreef`\n",
    "+ aspect: `dataTIN.aspect`\n",
    "+ horizontal curvature: `dataTIN.hcurv`\n",
    "+ vertical curvature: `dataTIN.vcurv`"
   ]
  },
  {
   "cell_type": "code",
   "execution_count": null,
   "metadata": {
    "scrolled": false
   },
   "outputs": [],
   "source": [
    "dataTIN = wrAnalyse.analyseWaveReef(folder='output',timestep=22)\n",
    "dataTIN.regridTINdataSet()\n",
    "\n",
    "dataTIN.plotdataSet(title='Elevation', data=dataTIN.z, color=cmo.cm.delta,crange=[-2000,2000])\n",
    "dataTIN.plotdataSet(title='Total erosion/deposition [m]', data=dataTIN.dz, color=cmo.cm.balance,crange=[-20.,20.])\n",
    "dataTIN.plotdataSet(title='Wave erosion/deposition [m]', data=dataTIN.wavesed, color=cmo.cm.balance,crange=[-5.,5.])\n",
    "dataTIN.plotdataSet(title='Hillslope erosion/deposition [m]', data=dataTIN.cumhill, color=cmo.cm.balance,\n",
    "                      crange=[-2.5,2.5])\n",
    "dataTIN.plotdataSet(title='Wave induced stress', data=dataTIN.wavestress, color=cmo.cm.tempo,crange=[0.,2.],ctr='k')\n",
    "dataTIN.plotdataSet(title='Reef absent/present', data=dataTIN.depreef, color=cm.Blues,\n",
    "                      crange=[0,2])"
   ]
  },
  {
   "cell_type": "markdown",
   "metadata": {},
   "source": [
    "## Analysing sediment erosion/deposition and reef growth\n",
    "\n",
    "We have access to the deposited volume over time and can perform with IPython notebook calculation of the accumulated volume in the entire region or in a specific area. This can be done in this way:\n",
    "\n",
    "\n",
    "We will use the following area for this example:\n",
    "\n",
    "***\n",
    "\n",
    "<img src=\"images/geo.jpg\" alt=\"geometry\" width=\"800\" height=\"550\"/>\n",
    "\n",
    "*** \n",
    "\n",
    "\n",
    "We first define the area where we will perform our analyse:\n",
    "\n",
    "+ `erange`: [100000,250000,540000,640000]\n",
    "\n",
    "and plot the total sedimentation change (erosion & deposition) `dataTIN.dz`."
   ]
  },
  {
   "cell_type": "code",
   "execution_count": null,
   "metadata": {},
   "outputs": [],
   "source": [
    "dataTIN.plotdataSet(title='Erosion/Deposition [m]', data=dataTIN.dz, color=cmo.cm.balance,  \n",
    "                      crange=[-25,25], erange=[100000,250000,540000,640000],\n",
    "                      depctr=(-2,10),ctr='k',size=(10,10))"
   ]
  },
  {
   "cell_type": "markdown",
   "metadata": {},
   "source": [
    "Then we look if there is any reef in the region... we should have some based on the GoogleMap image above!"
   ]
  },
  {
   "cell_type": "code",
   "execution_count": null,
   "metadata": {},
   "outputs": [],
   "source": [
    "dataTIN.plotdataSet(title='Reef position', data=dataTIN.depreef, color=cmo.cm.balance,  \n",
    "                      crange=[-2,2], erange=[100000,250000,540000,640000],\n",
    "                      depctr=(1),ctr='k',size=(10,10))"
   ]
  },
  {
   "cell_type": "markdown",
   "metadata": {},
   "source": [
    "We can now compute a series of information regarding erosion/deposition volume for the selected region.\n",
    "\n",
    "#### Total volume of erosion and deposition"
   ]
  },
  {
   "cell_type": "code",
   "execution_count": null,
   "metadata": {},
   "outputs": [],
   "source": [
    "dataTIN.getDepositedVolume(data=dataTIN.dz,time=11000.,erange=[100000,250000,540000,640000])\n",
    "print('----')\n",
    "dataTIN.getErodedVolume(data=dataTIN.dz,time=11000.,erange=[100000,250000,540000,640000])"
   ]
  },
  {
   "cell_type": "markdown",
   "metadata": {},
   "source": [
    "#### Total volume of erosion and deposition induced by hillslope processes"
   ]
  },
  {
   "cell_type": "code",
   "execution_count": null,
   "metadata": {},
   "outputs": [],
   "source": [
    "dataTIN.getDepositedVolume(data=dataTIN.cumhill,time=11000.,erange=[100000,250000,540000,640000])\n",
    "print('----')\n",
    "dataTIN.getErodedVolume(data=dataTIN.cumhill,time=11000.,erange=[100000,250000,540000,640000])"
   ]
  },
  {
   "cell_type": "markdown",
   "metadata": {},
   "source": [
    "#### Total volume of erosion and deposition induced by wave processes"
   ]
  },
  {
   "cell_type": "code",
   "execution_count": null,
   "metadata": {},
   "outputs": [],
   "source": [
    "dataTIN.getDepositedVolume(data=dataTIN.wavesed,time=11000.,erange=[100000,250000,540000,640000])\n",
    "print('----')\n",
    "dataTIN.getErodedVolume(data=dataTIN.wavesed,time=11000.,erange=[100000,250000,540000,640000])"
   ]
  },
  {
   "cell_type": "markdown",
   "metadata": {},
   "source": [
    "#### Total volume of erosion and deposition around reef systems"
   ]
  },
  {
   "cell_type": "code",
   "execution_count": null,
   "metadata": {},
   "outputs": [],
   "source": [
    "r,c = np.where(dataTIN.depreef>0)\n",
    "erodepreef = np.zeros(dataTIN.dz.shape)\n",
    "erodepreef[r,c] = dataTIN.dz[r,c]\n",
    "dataTIN.getDepositedVolume(data=erodepreef,time=11000.,erange=[100000,250000,540000,640000])\n",
    "print('----')\n",
    "dataTIN.getErodedVolume(data=erodepreef,time=11000.,erange=[100000,250000,540000,640000])"
   ]
  },
  {
   "cell_type": "markdown",
   "metadata": {},
   "source": [
    "### Temporal analyse of reef growth\n",
    "\n",
    "Up to now, we have only looked at the last time step, obviously we have access to all these information over time in our model. \n",
    "\n",
    "Here is an example of how to plot deposition and erosion rate through time on the reefs only. It can give some information on the timing of the reefs _turn-on_ for example in this particular area. \n",
    "\n",
    "This can be done in this way:"
   ]
  },
  {
   "cell_type": "code",
   "execution_count": null,
   "metadata": {},
   "outputs": [],
   "source": [
    "time = np.linspace(-10000.0, 0.0, num=21)\n",
    "time,ero,depo = wrAnalyse.temporalGrowth(folder='output',step=22,vtime=time,\n",
    "                                         smooth=100,vrange=[100000,250000,540000,640000])\n",
    "wrAnalyse.temporalPlot(time,ero,depo,size=(8,5))"
   ]
  },
  {
   "cell_type": "markdown",
   "metadata": {},
   "source": [
    "## Reef cross section\n",
    "\n",
    "\n",
    "***\n",
    "\n",
    "<img src=\"images/section.jpg\" alt=\"geometry\" width=\"940\" height=\"800\"/>\n",
    "\n",
    "***\n",
    "\n",
    "Example of cross sections through one Badlands model predicted stratigraphy showing time layers of mixed siliciclastic-carbonate accretion NW of Swain Reef and offshore of Princess Charlotte Bay.\n",
    "\n",
    "\n",
    "<div class=\"alert alert-block alert-info\">We will use the recorded underlying stratigraphy to extract information regarding reef growth in different regions of the continental shelf.</div>\n",
    "\n",
    "### Section locations\n",
    "\n",
    "First we will define the locations where we would like to make some cross-sections.\n",
    "\n",
    "We define the model output `folder` in our case it is called _output_ and the time `step` we want to plot (here 22, the final time). \n",
    "\n",
    "We define each cross-sections based on their X,Y coordinates as _numpy_ vector (_np_)."
   ]
  },
  {
   "cell_type": "code",
   "execution_count": null,
   "metadata": {},
   "outputs": [],
   "source": [
    "secmap = section.sectionCarbonate(folder = 'output',step=22)\n",
    "\n",
    "# Section 1\n",
    "sec1=np.zeros((2,2))\n",
    "sec1[0,:] = [287882,469598]\n",
    "sec1[1,:] = [368169,572448]\n",
    "\n",
    "# Section 2\n",
    "sec2=np.zeros((2,2))\n",
    "sec2[0,:] = [134722,626561]\n",
    "sec2[1,:] = [257105,500163]\n",
    "\n",
    "# Section 3\n",
    "sec3=np.zeros((2,2))\n",
    "sec3[0,:] = [481670,62921.5]\n",
    "sec3[1,:] = [603090,26405]"
   ]
  },
  {
   "cell_type": "markdown",
   "metadata": {},
   "source": [
    "We then combine them together in a Python list using the command `append()`"
   ]
  },
  {
   "cell_type": "code",
   "execution_count": null,
   "metadata": {},
   "outputs": [],
   "source": [
    "pt = []\n",
    "pt.append(sec1)\n",
    "pt.append(sec2)\n",
    "pt.append(sec3)"
   ]
  },
  {
   "cell_type": "markdown",
   "metadata": {},
   "source": [
    "Let's have a look at where our cross-sections are:"
   ]
  },
  {
   "cell_type": "code",
   "execution_count": null,
   "metadata": {},
   "outputs": [],
   "source": [
    "secmap.plotSectionMap(title='Elevation', color=cmo.cm.delta, crange=[-5000,5000], pt=pt,size=(8,8))"
   ]
  },
  {
   "cell_type": "markdown",
   "metadata": {},
   "source": [
    "<div class=\"alert alert-block alert-info\">We will now plot each of these sections in the notebook.</div>\n",
    "\n",
    "\n",
    "#### Cross section 1"
   ]
  },
  {
   "cell_type": "code",
   "execution_count": null,
   "metadata": {},
   "outputs": [],
   "source": [
    "secCarb1 = section.sectionCarbonate(folder = 'output',step=22)\n",
    "secCarb1.interpolate(dump=False)\n",
    "secCarb1.buildSection(sec=sec1)\n",
    "section.viewSection(width = 900, height = 700, cs = secCarb1, \n",
    "            dnlay = 1, rangeX=[30000, 98000], rangeY=[-75,40],\n",
    "            linesize = 0.5, title=' ')"
   ]
  },
  {
   "cell_type": "markdown",
   "metadata": {},
   "source": [
    "#### Cross section 2"
   ]
  },
  {
   "cell_type": "code",
   "execution_count": null,
   "metadata": {},
   "outputs": [],
   "source": [
    "secCarb2 = section.sectionCarbonate(folder = 'output',step=22)\n",
    "secCarb2.interpolate(dump=False)\n",
    "secCarb2.buildSection(sec=sec2)\n",
    "section.viewSection(width = 900, height = 700, cs = secCarb2, \n",
    "            dnlay = 1, rangeX=[0, 170000], rangeY=[-75,120],\n",
    "            linesize = 0.5, title=' ')"
   ]
  },
  {
   "cell_type": "markdown",
   "metadata": {},
   "source": [
    "#### Cross section 3"
   ]
  },
  {
   "cell_type": "code",
   "execution_count": null,
   "metadata": {},
   "outputs": [],
   "source": [
    "secCarb3 = section.sectionCarbonate(folder = 'output',step=22)\n",
    "secCarb3.interpolate(dump=False)\n",
    "secCarb3.buildSection(sec=sec3)\n",
    "section.viewSection(width = 900, height = 700, cs = secCarb3, \n",
    "            dnlay = 1, rangeX=[0, 120000], rangeY=[-75,50],\n",
    "            linesize = 0.5, title=' ')"
   ]
  },
  {
   "cell_type": "code",
   "execution_count": null,
   "metadata": {},
   "outputs": [],
   "source": []
  }
 ],
 "metadata": {
  "kernelspec": {
   "display_name": "Python 3",
   "language": "python",
   "name": "python3"
  },
  "language_info": {
   "codemirror_mode": {
    "name": "ipython",
    "version": 3
   },
   "file_extension": ".py",
   "mimetype": "text/x-python",
   "name": "python",
   "nbconvert_exporter": "python",
   "pygments_lexer": "ipython3",
   "version": "3.5.3"
  }
 },
 "nbformat": 4,
 "nbformat_minor": 1
}
