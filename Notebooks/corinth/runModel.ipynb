{
 "cells": [
  {
   "cell_type": "markdown",
   "metadata": {},
   "source": [
    "# Gulf of Corinth evolution over the last 130 kyrs\n",
    "\n",
    "To simulate the surface evolution of the Corinth rift over the past 130 kyrs, our input file integrates non-linear hillslope diffusion, and river incision by means of the stream power law (_default fluvial incision_ -- **detachment-limited**), allowing for balanced sediment transport and deposition under varying tectonic and climatic forcings. \n",
    "\n",
    "***\n",
    "\n",
    "<img src=\"images/model.jpg\" alt=\"geometry\" width=\"900\" height=\"500\"/>\n",
    "\n",
    "***\n",
    "\n",
    "This example is based on the following paper:\n",
    "\n",
    "**Pechlivanidou S., P. Cowie, G. Duclaux, N. Nixon, R. Gawthorpe, T. Salles: Tipping the balance: Shifts in sediment production in an active rift setting, Geology, [doi:10.1130/G45589.1](https://doi.org/10.1130/G45589.1), 2019.**\n",
    "\n",
    "***\n",
    "\n",
    "\n",
    "Erosion rate $\\dot{\\epsilon}$ depends on drainage area $A$, net precipitation $P$ and local slope $S$ and takes the form:\n",
    "\n",
    "$\\dot{\\epsilon}=\\kappa_{d} P^l (PA)^m S^n$\n",
    "\n",
    "$\\kappa_{d}$ is a dimensional coefficient describing the erodibility of the channel bed as a function of rock strength, bed roughness and climate, $l$, $m$ and $n$ are dimensionless positive constants. Default formulation assumes $l=0$, $m=0.5$ and $n=1$. The precipitation exponent $l$ allows for representation of climate-dependent chemical weathering of river bed across non-uniform rainfall.\n",
    "\n",
    "In our simulation, we assume that:\n",
    "\n",
    "+ $l=0$, $m=0.5$ and $n=1$\n",
    "+ $\\kappa_{d} = 2.e^{-6}$\n",
    "\n",
    "> This value of $\\kappa_{d}$ will only be used for already mobilised sediment as we also impose underlying erodibility layers in this example. \n",
    "\n",
    "\n"
   ]
  },
  {
   "cell_type": "code",
   "execution_count": null,
   "metadata": {
    "scrolled": true
   },
   "outputs": [],
   "source": [
    "import glob\n",
    "import lavavu\n",
    "\n",
    "import cmocean as cmo\n",
    "from matplotlib import cm\n",
    "\n",
    "\n",
    "from scripts import viewBadlands as visu\n",
    "from scripts import catchmentErosion as eroCatch\n",
    "\n",
    "from badlands.model import Model as badlandsModel\n",
    "\n",
    "%config InlineBackend.figure_format = 'svg'\n",
    "%matplotlib inline"
   ]
  },
  {
   "cell_type": "markdown",
   "metadata": {},
   "source": [
    "## Starting badlands\n",
    "\n",
    "First, we initialise the model and set the path to the **XmL** input file:\n",
    "\n",
    "+ **input.xml**\n",
    "\n",
    "> You can edit the **XmL** configuration file directly in the _Jupyter environment_ by clicking on it in the `tree` and changing in the **url** the **view** to **edit**."
   ]
  },
  {
   "cell_type": "code",
   "execution_count": null,
   "metadata": {},
   "outputs": [],
   "source": [
    "# Initialise model\n",
    "model = badlandsModel()\n",
    "\n",
    "# Define the XmL input file\n",
    "model.load_xml('input.xml')"
   ]
  },
  {
   "cell_type": "markdown",
   "metadata": {},
   "source": [
    "## Running badlands\n",
    "\n",
    "We can run the model for a given period. The end time in the **XmL** input file is set to _130 ky_ but you might want to run the model for a coupled of iterations and check the output before running the model for the entire simulation time. This is done by putting the time in the **run_to_time** function. \n",
    "\n",
    "Here we go for the full time directly..."
   ]
  },
  {
   "cell_type": "code",
   "execution_count": null,
   "metadata": {
    "scrolled": false
   },
   "outputs": [],
   "source": [
    "model.run_to_time(130000)"
   ]
  },
  {
   "cell_type": "markdown",
   "metadata": {},
   "source": [
    "## Visualise outputs"
   ]
  },
  {
   "cell_type": "code",
   "execution_count": null,
   "metadata": {},
   "outputs": [],
   "source": [
    "folder = 'output/'\n",
    "stepCounter = len(glob.glob1(folder+\"/xmf/\",\"tin.time*\"))-1\n",
    "visu.viewTime(folder, steps=stepCounter, it=1, scaleZ=10, maxZ=2000, maxED=350)"
   ]
  },
  {
   "cell_type": "markdown",
   "metadata": {},
   "source": [
    "## Loading output\n",
    "\n",
    "We first load the simulation last output file (timestep=13) to pick a specific catchment."
   ]
  },
  {
   "cell_type": "code",
   "execution_count": null,
   "metadata": {},
   "outputs": [],
   "source": [
    "catchment = eroCatch.catchmentErosion(folder='output',timestep=13)\n",
    "catchment.regridTINdataSet()"
   ]
  },
  {
   "cell_type": "markdown",
   "metadata": {},
   "source": [
    "To extract the information from a particular catchment we only need to get a point belonging to this catchment. Here we chose the following point coordinates:\n",
    "\n",
    "+ `pt=[637936.,4210856.]`\n",
    "\n",
    "Let's see its position within the region..."
   ]
  },
  {
   "cell_type": "code",
   "execution_count": null,
   "metadata": {},
   "outputs": [],
   "source": [
    "catchment.plotdataSet(title='Elevation', data=catchment.z, color=cmo.cm.delta,  \n",
    "                      crange=[-2000,2000], pt=[637936.,4210856.])"
   ]
  },
  {
   "cell_type": "markdown",
   "metadata": {},
   "source": [
    "> We can zoom in to ensure that this is at the right spot... beware that the function will not work if the point is defined underwater!\n",
    "\n",
    "We specify the extent of the zoom region using:\n",
    "\n",
    "+ `erange=[x1,x2,y1,y2]`"
   ]
  },
  {
   "cell_type": "code",
   "execution_count": null,
   "metadata": {},
   "outputs": [],
   "source": [
    "catchment.plotdataSet(title='Elevation', data=catchment.z, color=cmo.cm.delta,  \n",
    "                      crange=[-2000,2000], pt=[637936.,4210856.],\n",
    "                      erange=[618000,649000,4190000,4230000])"
   ]
  },
  {
   "cell_type": "markdown",
   "metadata": {},
   "source": [
    "### Performing erosion analyse on the chosen catchment\n",
    "\n",
    "Now that we are sure about our catchment position we extract from the TIN the relevant points"
   ]
  },
  {
   "cell_type": "code",
   "execution_count": null,
   "metadata": {},
   "outputs": [],
   "source": [
    "catch = eroCatch.catchmentErosion(folder='output', timestep=13, pointXY=[637936.,4210856.])"
   ]
  },
  {
   "cell_type": "code",
   "execution_count": null,
   "metadata": {},
   "outputs": [],
   "source": [
    "catch.regridTINdataSet()"
   ]
  },
  {
   "cell_type": "markdown",
   "metadata": {},
   "source": [
    "The alpha parameter is used to perform the delineation of the catchment and define a convex hull."
   ]
  },
  {
   "cell_type": "code",
   "execution_count": null,
   "metadata": {},
   "outputs": [],
   "source": [
    "catch.extractRegion(alpha=0.001)"
   ]
  },
  {
   "cell_type": "markdown",
   "metadata": {},
   "source": [
    "We can visualise the catchment, the points which have been taken to perform the analyse as well as the contour of the defined area. "
   ]
  },
  {
   "cell_type": "code",
   "execution_count": null,
   "metadata": {},
   "outputs": [],
   "source": [
    "catch.plotCatchment()"
   ]
  },
  {
   "cell_type": "markdown",
   "metadata": {},
   "source": [
    "Based on the extracted points from the figure above we can compute the **cumulative erosion** over the duration of the simulation (130 ky) as well as the **eroded sediment rate**. "
   ]
  },
  {
   "cell_type": "code",
   "execution_count": null,
   "metadata": {},
   "outputs": [],
   "source": [
    "catch.getErodedVolume(time=130000.)"
   ]
  },
  {
   "cell_type": "markdown",
   "metadata": {},
   "source": [
    "Obviously all the data outputed by badlands can be further process to look at other things depending of what you think will be useful...\n",
    "\n",
    "Here as an example, we can look at the **distribution of erosion rate versus elevation across the entire catchment**:"
   ]
  },
  {
   "cell_type": "code",
   "execution_count": null,
   "metadata": {},
   "outputs": [],
   "source": [
    "catch.plotEroElev(time=130000.)"
   ]
  },
  {
   "cell_type": "markdown",
   "metadata": {},
   "source": [
    "### Morphometrics\n",
    "\n",
    "<div class=\"alert alert-block alert-info\">We will now extract the value of deposited volume for a specific area and plot other metrics available to analyse the surface morphology.</div>\n",
    "\n",
    "We can plot a series of different parameters from our landscape:\n",
    "\n",
    "+ elevation: `dataTIN.z`\n",
    "+ slope: `dataTIN.slp`\n",
    "+ erosion/deposition: `dataTIN.dz`\n",
    "+ aspect: `dataTIN.aspect`\n",
    "+ horizontal curvature: `dataTIN.hcurv`\n",
    "+ vertical curvature: `dataTIN.vcurv`"
   ]
  },
  {
   "cell_type": "code",
   "execution_count": null,
   "metadata": {
    "scrolled": false
   },
   "outputs": [],
   "source": [
    "catchment.plotdataSet(title='Slope', data=catchment.slp, color=cmo.cm.tempo,crange=[0.,1.])\n",
    "catchment.plotdataSet(title='Erosion/Deposition [m]', data=catchment.dz, color=cmo.cm.balance,crange=[-300.,300.])\n",
    "catchment.plotdataSet(title='Aspect', data=catchment.aspect, color=cmo.cm.haline,crange=[0.,2.],ctr='w')\n",
    "catchment.plotdataSet(title='Horizontal curvature', data=catchment.hcurv, color=cmo.cm.balance,\n",
    "                      crange=[-0.001,0.001])\n",
    "catchment.plotdataSet(title='Vertical curvature', data=catchment.vcurv, color=cmo.cm.balance,\n",
    "                      crange=[-0.0012,0.0012])"
   ]
  },
  {
   "cell_type": "markdown",
   "metadata": {},
   "source": [
    "### Finding deposited sediment volume\n",
    "\n",
    "As shown in the previous notebook on the erosion rate, we have access to the deposited volume over time and can perform from the notebook a calculation of the accumulated volume in the entire region or in a specific area. This can be done in this way:"
   ]
  },
  {
   "cell_type": "code",
   "execution_count": null,
   "metadata": {},
   "outputs": [],
   "source": [
    "catchment.plotdataSet(title='Erosion/Deposition [m]', data=catchment.dz, color=cmo.cm.amp,  \n",
    "                      crange=[0,500], erange=[570000,665000,4200000,4260000],\n",
    "                      depctr=(50,150,300,500),size=(10,10))"
   ]
  },
  {
   "cell_type": "code",
   "execution_count": null,
   "metadata": {},
   "outputs": [],
   "source": [
    "catchment.getDepositedVolume(time=130000.,erange=[570000,665000,4200000,4260000])"
   ]
  },
  {
   "cell_type": "code",
   "execution_count": null,
   "metadata": {},
   "outputs": [],
   "source": []
  }
 ],
 "metadata": {
  "kernelspec": {
   "display_name": "Python 3",
   "language": "python",
   "name": "python3"
  },
  "language_info": {
   "codemirror_mode": {
    "name": "ipython",
    "version": 3
   },
   "file_extension": ".py",
   "mimetype": "text/x-python",
   "name": "python",
   "nbconvert_exporter": "python",
   "pygments_lexer": "ipython3",
   "version": "3.5.3"
  }
 },
 "nbformat": 4,
 "nbformat_minor": 1
}
