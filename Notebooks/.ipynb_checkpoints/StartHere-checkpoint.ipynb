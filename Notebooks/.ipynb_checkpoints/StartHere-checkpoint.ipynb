{
 "cells": [
  {
   "cell_type": "markdown",
   "metadata": {},
   "source": [
    "Badlands - Basin & Landscape Dynamics\n",
    "=====\n",
    "\n",
    "\n",
    "Basin and Landscape Dynamics (**Badlands**) is a long-term surface evolution model built to simulate landscape development, sediment transport and sedimentary basins formation from upstream regions down to marine environments.\n",
    "\n",
    "\n",
    "\n",
    "***\n",
    "\n",
    "<img src=\"https://github.com/badlands-model/badlands/blob/master/badlands/docs/img/view.jpg?raw=true\" alt=\"geometry\" width=\"900\" height=\"500\"/>\n",
    "\n",
    "***\n",
    "\n",
    "\n",
    "\n",
    "> This program is free software: you can redistribute it and/or modify it under the terms of the GNU Lesser General Public License as published by the Free Software Foundation, either version 3 of the License, or (at your option) any later version.\n",
    "\n",
    "\n",
    "## What’s in the box?\n",
    "\n",
    "Badlands is an open-source Python-based code and can be used to simulate:\n",
    "\n",
    "+ hillslope processes (linear & non-linear diffusion),\n",
    "+ fluvial incision (Stream Power Law, Transport Capacity Law)\n",
    "+ sediment transport and deposition,\n",
    "+ wave-induced longshore drift transport,\n",
    "+ reef growth and carbonate platform formation,\n",
    "+ submarine gravity currents (turbidity currents),\n",
    "+ spatially and temporally varying tectonic (horizontal + vertical displacements) and\n",
    "+ effects of climate changes (rainfall) and/or sea-level fluctuations.\n",
    "\n",
    "\n",
    "## Documentation & Installation\n",
    "\n",
    "**https://badlands.readthedocs.io/**\n",
    " \n",
    " \n",
    "## Binder examples\n",
    "\n",
    "This **binder** tutorial provides a couple of examples to illustrate **badlands** capabilities. \n",
    "\n",
    "To run other examples you will need use: \n",
    "1. the Docker container or  \n",
    "2.  install badlands locally.\n",
    "\n",
    "#### A. try the [Gulf of Corinth example](corinth/runModel.ipynb)\n",
    "#### B. or the [Great Barrier Reef example](gbr/runModel.ipynb)"
   ]
  },
  {
   "cell_type": "code",
   "execution_count": null,
   "metadata": {},
   "outputs": [],
   "source": []
  }
 ],
 "metadata": {
  "kernelspec": {
   "display_name": "Python 3",
   "language": "python",
   "name": "python3"
  },
  "language_info": {
   "codemirror_mode": {
    "name": "ipython",
    "version": 3
   },
   "file_extension": ".py",
   "mimetype": "text/x-python",
   "name": "python",
   "nbconvert_exporter": "python",
   "pygments_lexer": "ipython3",
   "version": "3.5.3"
  }
 },
 "nbformat": 4,
 "nbformat_minor": 2
}
